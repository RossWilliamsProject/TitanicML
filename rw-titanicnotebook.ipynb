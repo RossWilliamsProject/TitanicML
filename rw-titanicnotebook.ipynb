{
 "cells": [
  {
   "cell_type": "markdown",
   "id": "247fd55b",
   "metadata": {
    "papermill": {
     "duration": 0.011839,
     "end_time": "2022-08-12T14:08:59.673640",
     "exception": false,
     "start_time": "2022-08-12T14:08:59.661801",
     "status": "completed"
    },
    "tags": []
   },
   "source": [
    "# **The \"Titanic\" Project**\n",
    "\n",
    "## *Contents*\n",
    "\n",
    "1) Problem Analysis and Definition\n",
    "\n",
    "2) Data \"Collection\"\n",
    "\n",
    "3) Light Data Analysis\n",
    "\n",
    "3) Data Cleaning\n",
    "\n",
    "4) Data Transformation\n",
    "\n",
    "5) Data Modelling\n",
    "\n",
    "6) Results Submission"
   ]
  },
  {
   "cell_type": "markdown",
   "id": "e88c2ff0",
   "metadata": {
    "papermill": {
     "duration": 0.009635,
     "end_time": "2022-08-12T14:08:59.693668",
     "exception": false,
     "start_time": "2022-08-12T14:08:59.684033",
     "status": "completed"
    },
    "tags": []
   },
   "source": [
    "## **Problem Analysis and Definition**\n",
    "\n",
    "Understanding the history and context of the data allows for a better analysis.\n",
    "The data set covers the fate of the passengers on the Titanic, a ship that sunk after hitting an iceburg. \n",
    "The data provided consists of a subset of the passengers on board the ship (891 out of 2240), \n",
    "split into the following two groups, \n",
    "1) A set for testing (\"test.csv\" - which doesnt contain details of the passengers survival) <br>\n",
    "2) A set for training (\"train.csv\" - which does contain details of the passengers survival). <br>\n",
    "\n",
    "The data contains several fields about each passenger (alongside the key detail of whether they lived or not)\n",
    "such as their age, information about their family, their social class, and so on. \n",
    "The aim of this project is to create a model to predict a passengers survival using this given data."
   ]
  },
  {
   "cell_type": "markdown",
   "id": "3c4a3471",
   "metadata": {
    "papermill": {
     "duration": 0.01188,
     "end_time": "2022-08-12T14:08:59.717934",
     "exception": false,
     "start_time": "2022-08-12T14:08:59.706054",
     "status": "completed"
    },
    "tags": []
   },
   "source": [
    "## **Data \"Collection\"**\n",
    "\n",
    "Importing the correct modules for later in project (including visualisation and modelling modules)<br>\n",
    "The final code here outputs the input files from kaggle (datasets)"
   ]
  },
  {
   "cell_type": "code",
   "execution_count": 1,
   "id": "131e1fc8",
   "metadata": {
    "_cell_guid": "b1076dfc-b9ad-4769-8c92-a6c4dae69d19",
    "_uuid": "8f2839f25d086af736a60e9eeb907d3b93b6e0e5",
    "execution": {
     "iopub.execute_input": "2022-08-12T14:08:59.744787Z",
     "iopub.status.busy": "2022-08-12T14:08:59.743740Z",
     "iopub.status.idle": "2022-08-12T14:09:01.542199Z",
     "shell.execute_reply": "2022-08-12T14:09:01.540681Z"
    },
    "papermill": {
     "duration": 1.816352,
     "end_time": "2022-08-12T14:09:01.547056",
     "exception": false,
     "start_time": "2022-08-12T14:08:59.730704",
     "status": "completed"
    },
    "tags": []
   },
   "outputs": [
    {
     "name": "stdout",
     "output_type": "stream",
     "text": [
      "/kaggle/input/titanic/train.csv\n",
      "/kaggle/input/titanic/test.csv\n",
      "/kaggle/input/titanic/gender_submission.csv\n"
     ]
    }
   ],
   "source": [
    "# This is the code given by default by kaggle for the competition - it has been edited in some places\n",
    "\n",
    "# Default Imports\n",
    "import numpy as np \n",
    "import pandas as pd \n",
    "\n",
    "# Added Imports for Visualisation\n",
    "import seaborn as sns \n",
    "import matplotlib.pyplot as plt\n",
    "\n",
    "# Added Imports for Modelling/ML\n",
    "from sklearn.model_selection import train_test_split\n",
    "\n",
    "from sklearn.linear_model import LogisticRegression\n",
    "from sklearn.svm import SVC, LinearSVC\n",
    "from sklearn.ensemble import RandomForestClassifier\n",
    "from sklearn.neighbors import KNeighborsClassifier\n",
    "from sklearn.naive_bayes import GaussianNB\n",
    "from sklearn.linear_model import Perceptron\n",
    "from sklearn.linear_model import SGDClassifier\n",
    "from sklearn.tree import DecisionTreeClassifier\n",
    "\n",
    "from sklearn.metrics import classification_report\n",
    "\n",
    "\n",
    "# Default given code to output input files from Kaggle\n",
    "import os\n",
    "for dirname, _, filenames in os.walk('/kaggle/input'):\n",
    "    for filename in filenames:\n",
    "        print(os.path.join(dirname, filename))"
   ]
  },
  {
   "cell_type": "markdown",
   "id": "e6ecdf1f",
   "metadata": {
    "papermill": {
     "duration": 0.01097,
     "end_time": "2022-08-12T14:09:01.570252",
     "exception": false,
     "start_time": "2022-08-12T14:09:01.559282",
     "status": "completed"
    },
    "tags": []
   },
   "source": [
    "The code below imports the data from the given CSVs into data frames.<br>\n",
    "Datasets are also \"combined\" (joined by column) so that this pointer can be used to perform transformative actions on both datasets at once later on in the code (eg: changing column names of both in one line of code).\n",
    "<br><br>\n",
    "As can be seen by printing each of the column headings for both datasets, the only current difference is the lack of \"Suvived\" attribute for the testing data."
   ]
  },
  {
   "cell_type": "code",
   "execution_count": 2,
   "id": "5aace1b2",
   "metadata": {
    "execution": {
     "iopub.execute_input": "2022-08-12T14:09:01.594019Z",
     "iopub.status.busy": "2022-08-12T14:09:01.593567Z",
     "iopub.status.idle": "2022-08-12T14:09:01.627120Z",
     "shell.execute_reply": "2022-08-12T14:09:01.624914Z"
    },
    "papermill": {
     "duration": 0.05035,
     "end_time": "2022-08-12T14:09:01.631403",
     "exception": false,
     "start_time": "2022-08-12T14:09:01.581053",
     "status": "completed"
    },
    "tags": []
   },
   "outputs": [
    {
     "name": "stdout",
     "output_type": "stream",
     "text": [
      "['PassengerId' 'Survived' 'Pclass' 'Name' 'Sex' 'Age' 'SibSp' 'Parch'\n",
      " 'Ticket' 'Fare' 'Cabin' 'Embarked']\n",
      "['PassengerId' 'Pclass' 'Name' 'Sex' 'Age' 'SibSp' 'Parch' 'Ticket' 'Fare'\n",
      " 'Cabin' 'Embarked']\n"
     ]
    }
   ],
   "source": [
    "# Import the data frames from the provided CSVs\n",
    "training_data = pd.read_csv('/kaggle/input/titanic/train.csv')\n",
    "testing_data = pd.read_csv('/kaggle/input/titanic/test.csv')\n",
    "\n",
    "# Combined into a list, in order to iterate through later when changing both data frames at once\n",
    "combined_datasets = [training_data, testing_data]\n",
    "\n",
    "print(training_data.columns.values)\n",
    "print(testing_data.columns.values)"
   ]
  },
  {
   "cell_type": "markdown",
   "id": "bbd2c53c",
   "metadata": {
    "papermill": {
     "duration": 0.010084,
     "end_time": "2022-08-12T14:09:01.652845",
     "exception": false,
     "start_time": "2022-08-12T14:09:01.642761",
     "status": "completed"
    },
    "tags": []
   },
   "source": [
    "## **Light Data Analysis**\n",
    "In this section, I will inspect whether the data is catagorical or numerical - as this will change how we analyse the data at first. <br>\n",
    "This can be seen by inspecting the datas head and analysing the values carefully to ensure their data type."
   ]
  },
  {
   "cell_type": "code",
   "execution_count": 3,
   "id": "951ac56c",
   "metadata": {
    "execution": {
     "iopub.execute_input": "2022-08-12T14:09:01.676053Z",
     "iopub.status.busy": "2022-08-12T14:09:01.675555Z",
     "iopub.status.idle": "2022-08-12T14:09:01.704761Z",
     "shell.execute_reply": "2022-08-12T14:09:01.703365Z"
    },
    "papermill": {
     "duration": 0.044598,
     "end_time": "2022-08-12T14:09:01.707885",
     "exception": false,
     "start_time": "2022-08-12T14:09:01.663287",
     "status": "completed"
    },
    "tags": []
   },
   "outputs": [
    {
     "data": {
      "text/html": [
       "<div>\n",
       "<style scoped>\n",
       "    .dataframe tbody tr th:only-of-type {\n",
       "        vertical-align: middle;\n",
       "    }\n",
       "\n",
       "    .dataframe tbody tr th {\n",
       "        vertical-align: top;\n",
       "    }\n",
       "\n",
       "    .dataframe thead th {\n",
       "        text-align: right;\n",
       "    }\n",
       "</style>\n",
       "<table border=\"1\" class=\"dataframe\">\n",
       "  <thead>\n",
       "    <tr style=\"text-align: right;\">\n",
       "      <th></th>\n",
       "      <th>PassengerId</th>\n",
       "      <th>Survived</th>\n",
       "      <th>Pclass</th>\n",
       "      <th>Name</th>\n",
       "      <th>Sex</th>\n",
       "      <th>Age</th>\n",
       "      <th>SibSp</th>\n",
       "      <th>Parch</th>\n",
       "      <th>Ticket</th>\n",
       "      <th>Fare</th>\n",
       "      <th>Cabin</th>\n",
       "      <th>Embarked</th>\n",
       "    </tr>\n",
       "  </thead>\n",
       "  <tbody>\n",
       "    <tr>\n",
       "      <th>0</th>\n",
       "      <td>1</td>\n",
       "      <td>0</td>\n",
       "      <td>3</td>\n",
       "      <td>Braund, Mr. Owen Harris</td>\n",
       "      <td>male</td>\n",
       "      <td>22.0</td>\n",
       "      <td>1</td>\n",
       "      <td>0</td>\n",
       "      <td>A/5 21171</td>\n",
       "      <td>7.2500</td>\n",
       "      <td>NaN</td>\n",
       "      <td>S</td>\n",
       "    </tr>\n",
       "    <tr>\n",
       "      <th>1</th>\n",
       "      <td>2</td>\n",
       "      <td>1</td>\n",
       "      <td>1</td>\n",
       "      <td>Cumings, Mrs. John Bradley (Florence Briggs Th...</td>\n",
       "      <td>female</td>\n",
       "      <td>38.0</td>\n",
       "      <td>1</td>\n",
       "      <td>0</td>\n",
       "      <td>PC 17599</td>\n",
       "      <td>71.2833</td>\n",
       "      <td>C85</td>\n",
       "      <td>C</td>\n",
       "    </tr>\n",
       "    <tr>\n",
       "      <th>2</th>\n",
       "      <td>3</td>\n",
       "      <td>1</td>\n",
       "      <td>3</td>\n",
       "      <td>Heikkinen, Miss. Laina</td>\n",
       "      <td>female</td>\n",
       "      <td>26.0</td>\n",
       "      <td>0</td>\n",
       "      <td>0</td>\n",
       "      <td>STON/O2. 3101282</td>\n",
       "      <td>7.9250</td>\n",
       "      <td>NaN</td>\n",
       "      <td>S</td>\n",
       "    </tr>\n",
       "    <tr>\n",
       "      <th>3</th>\n",
       "      <td>4</td>\n",
       "      <td>1</td>\n",
       "      <td>1</td>\n",
       "      <td>Futrelle, Mrs. Jacques Heath (Lily May Peel)</td>\n",
       "      <td>female</td>\n",
       "      <td>35.0</td>\n",
       "      <td>1</td>\n",
       "      <td>0</td>\n",
       "      <td>113803</td>\n",
       "      <td>53.1000</td>\n",
       "      <td>C123</td>\n",
       "      <td>S</td>\n",
       "    </tr>\n",
       "    <tr>\n",
       "      <th>4</th>\n",
       "      <td>5</td>\n",
       "      <td>0</td>\n",
       "      <td>3</td>\n",
       "      <td>Allen, Mr. William Henry</td>\n",
       "      <td>male</td>\n",
       "      <td>35.0</td>\n",
       "      <td>0</td>\n",
       "      <td>0</td>\n",
       "      <td>373450</td>\n",
       "      <td>8.0500</td>\n",
       "      <td>NaN</td>\n",
       "      <td>S</td>\n",
       "    </tr>\n",
       "  </tbody>\n",
       "</table>\n",
       "</div>"
      ],
      "text/plain": [
       "   PassengerId  Survived  Pclass  \\\n",
       "0            1         0       3   \n",
       "1            2         1       1   \n",
       "2            3         1       3   \n",
       "3            4         1       1   \n",
       "4            5         0       3   \n",
       "\n",
       "                                                Name     Sex   Age  SibSp  \\\n",
       "0                            Braund, Mr. Owen Harris    male  22.0      1   \n",
       "1  Cumings, Mrs. John Bradley (Florence Briggs Th...  female  38.0      1   \n",
       "2                             Heikkinen, Miss. Laina  female  26.0      0   \n",
       "3       Futrelle, Mrs. Jacques Heath (Lily May Peel)  female  35.0      1   \n",
       "4                           Allen, Mr. William Henry    male  35.0      0   \n",
       "\n",
       "   Parch            Ticket     Fare Cabin Embarked  \n",
       "0      0         A/5 21171   7.2500   NaN        S  \n",
       "1      0          PC 17599  71.2833   C85        C  \n",
       "2      0  STON/O2. 3101282   7.9250   NaN        S  \n",
       "3      0            113803  53.1000  C123        S  \n",
       "4      0            373450   8.0500   NaN        S  "
      ]
     },
     "execution_count": 3,
     "metadata": {},
     "output_type": "execute_result"
    }
   ],
   "source": [
    "training_data.head()"
   ]
  },
  {
   "cell_type": "markdown",
   "id": "d9e38d17",
   "metadata": {
    "papermill": {
     "duration": 0.011266,
     "end_time": "2022-08-12T14:09:01.730280",
     "exception": false,
     "start_time": "2022-08-12T14:09:01.719014",
     "status": "completed"
    },
    "tags": []
   },
   "source": [
    "As seen by the snippet of the data frame above, it is obvious which data is catagorical and numerical. These two sections will be explored differently - as catagorical datatypes cannot be analysed using popular visualisations such as histograms <br><br>\n",
    "***Catagorical Attributes***\n",
    "- Survived (Boolean, Catagorical)\n",
    "- Sex (Boolean, Catagorical)\n",
    "- Embarked (Char, Catagorical)\n",
    "- Pclass (Int, Ordinal) <br>\n",
    "\n",
    "***Numerical Attributes***\n",
    "- Age (Int)\n",
    "- Fare (Float)\n",
    "- SibSp (Int)\n",
    "- Parch (Int)\n",
    "\n",
    "***Mixed DataTypes***\n",
    "- Ticket (Mostly Ints, some with a leading String)\n",
    "- Cabin (Int with leading Char) <br>\n",
    "\n",
    "Mixed datatypes make analysing and exploring those datatypes more complex. To better analyse and compare this data, mixed datatypes should be sorted into catagories (such as taking only the leading letter for each cabin number) or transformed into pure ints (such as  removing leading strings from the ticket, leaving only the integer to fit the format of most of the tickets).\n",
    "<br>\n",
    "Before visualising or cleaning the now untransformed data, I will use the pandas info() and describe() functions to get a general idea about the data to raise some questions, which in asnwering will allow for a greater understanding of the data, and therefore (hopefully) a better prepared dataframe for training. "
   ]
  },
  {
   "cell_type": "code",
   "execution_count": 4,
   "id": "af35f985",
   "metadata": {
    "execution": {
     "iopub.execute_input": "2022-08-12T14:09:01.756245Z",
     "iopub.status.busy": "2022-08-12T14:09:01.755077Z",
     "iopub.status.idle": "2022-08-12T14:09:01.793889Z",
     "shell.execute_reply": "2022-08-12T14:09:01.791102Z"
    },
    "papermill": {
     "duration": 0.055194,
     "end_time": "2022-08-12T14:09:01.797202",
     "exception": false,
     "start_time": "2022-08-12T14:09:01.742008",
     "status": "completed"
    },
    "tags": []
   },
   "outputs": [
    {
     "name": "stdout",
     "output_type": "stream",
     "text": [
      "<class 'pandas.core.frame.DataFrame'>\n",
      "RangeIndex: 891 entries, 0 to 890\n",
      "Data columns (total 12 columns):\n",
      " #   Column       Non-Null Count  Dtype  \n",
      "---  ------       --------------  -----  \n",
      " 0   PassengerId  891 non-null    int64  \n",
      " 1   Survived     891 non-null    int64  \n",
      " 2   Pclass       891 non-null    int64  \n",
      " 3   Name         891 non-null    object \n",
      " 4   Sex          891 non-null    object \n",
      " 5   Age          714 non-null    float64\n",
      " 6   SibSp        891 non-null    int64  \n",
      " 7   Parch        891 non-null    int64  \n",
      " 8   Ticket       891 non-null    object \n",
      " 9   Fare         891 non-null    float64\n",
      " 10  Cabin        204 non-null    object \n",
      " 11  Embarked     889 non-null    object \n",
      "dtypes: float64(2), int64(5), object(5)\n",
      "memory usage: 83.7+ KB\n",
      ".........................................................\n",
      "<class 'pandas.core.frame.DataFrame'>\n",
      "RangeIndex: 418 entries, 0 to 417\n",
      "Data columns (total 11 columns):\n",
      " #   Column       Non-Null Count  Dtype  \n",
      "---  ------       --------------  -----  \n",
      " 0   PassengerId  418 non-null    int64  \n",
      " 1   Pclass       418 non-null    int64  \n",
      " 2   Name         418 non-null    object \n",
      " 3   Sex          418 non-null    object \n",
      " 4   Age          332 non-null    float64\n",
      " 5   SibSp        418 non-null    int64  \n",
      " 6   Parch        418 non-null    int64  \n",
      " 7   Ticket       418 non-null    object \n",
      " 8   Fare         417 non-null    float64\n",
      " 9   Cabin        91 non-null     object \n",
      " 10  Embarked     418 non-null    object \n",
      "dtypes: float64(2), int64(4), object(5)\n",
      "memory usage: 36.0+ KB\n"
     ]
    }
   ],
   "source": [
    "training_data.info()\n",
    "print(\".........................................................\")\n",
    "testing_data.info()"
   ]
  },
  {
   "cell_type": "markdown",
   "id": "e66599d3",
   "metadata": {
    "papermill": {
     "duration": 0.011363,
     "end_time": "2022-08-12T14:09:01.820822",
     "exception": false,
     "start_time": "2022-08-12T14:09:01.809459",
     "status": "completed"
    },
    "tags": []
   },
   "source": [
    "**Info() Findings:**\n",
    "In general, training and testing null proportions for each variable are the same (data frames are comparable, as expected).\n",
    "Some interesting numbers to pay attention to are that there is very little na values for most data - making this a fairly complete data frame. The only variables with large null counts are age - which lacks almost 1/8t of the possibble values in both data sets, and cabin (wihch stores the cabin ID) - which lacks almost 3/4 of possible values. This makes using this variable much more complex - as the amount of values that will have to e approxmiated may be too large to accurately make up for the lost values. "
   ]
  },
  {
   "cell_type": "code",
   "execution_count": 5,
   "id": "62984140",
   "metadata": {
    "execution": {
     "iopub.execute_input": "2022-08-12T14:09:01.845930Z",
     "iopub.status.busy": "2022-08-12T14:09:01.845465Z",
     "iopub.status.idle": "2022-08-12T14:09:01.888595Z",
     "shell.execute_reply": "2022-08-12T14:09:01.887331Z"
    },
    "papermill": {
     "duration": 0.058952,
     "end_time": "2022-08-12T14:09:01.891211",
     "exception": false,
     "start_time": "2022-08-12T14:09:01.832259",
     "status": "completed"
    },
    "tags": []
   },
   "outputs": [
    {
     "data": {
      "text/html": [
       "<div>\n",
       "<style scoped>\n",
       "    .dataframe tbody tr th:only-of-type {\n",
       "        vertical-align: middle;\n",
       "    }\n",
       "\n",
       "    .dataframe tbody tr th {\n",
       "        vertical-align: top;\n",
       "    }\n",
       "\n",
       "    .dataframe thead th {\n",
       "        text-align: right;\n",
       "    }\n",
       "</style>\n",
       "<table border=\"1\" class=\"dataframe\">\n",
       "  <thead>\n",
       "    <tr style=\"text-align: right;\">\n",
       "      <th></th>\n",
       "      <th>PassengerId</th>\n",
       "      <th>Survived</th>\n",
       "      <th>Pclass</th>\n",
       "      <th>Age</th>\n",
       "      <th>SibSp</th>\n",
       "      <th>Parch</th>\n",
       "      <th>Fare</th>\n",
       "    </tr>\n",
       "  </thead>\n",
       "  <tbody>\n",
       "    <tr>\n",
       "      <th>count</th>\n",
       "      <td>891.000000</td>\n",
       "      <td>891.000000</td>\n",
       "      <td>891.000000</td>\n",
       "      <td>714.000000</td>\n",
       "      <td>891.000000</td>\n",
       "      <td>891.000000</td>\n",
       "      <td>891.000000</td>\n",
       "    </tr>\n",
       "    <tr>\n",
       "      <th>mean</th>\n",
       "      <td>446.000000</td>\n",
       "      <td>0.383838</td>\n",
       "      <td>2.308642</td>\n",
       "      <td>29.699118</td>\n",
       "      <td>0.523008</td>\n",
       "      <td>0.381594</td>\n",
       "      <td>32.204208</td>\n",
       "    </tr>\n",
       "    <tr>\n",
       "      <th>std</th>\n",
       "      <td>257.353842</td>\n",
       "      <td>0.486592</td>\n",
       "      <td>0.836071</td>\n",
       "      <td>14.526497</td>\n",
       "      <td>1.102743</td>\n",
       "      <td>0.806057</td>\n",
       "      <td>49.693429</td>\n",
       "    </tr>\n",
       "    <tr>\n",
       "      <th>min</th>\n",
       "      <td>1.000000</td>\n",
       "      <td>0.000000</td>\n",
       "      <td>1.000000</td>\n",
       "      <td>0.420000</td>\n",
       "      <td>0.000000</td>\n",
       "      <td>0.000000</td>\n",
       "      <td>0.000000</td>\n",
       "    </tr>\n",
       "    <tr>\n",
       "      <th>25%</th>\n",
       "      <td>223.500000</td>\n",
       "      <td>0.000000</td>\n",
       "      <td>2.000000</td>\n",
       "      <td>20.125000</td>\n",
       "      <td>0.000000</td>\n",
       "      <td>0.000000</td>\n",
       "      <td>7.910400</td>\n",
       "    </tr>\n",
       "    <tr>\n",
       "      <th>50%</th>\n",
       "      <td>446.000000</td>\n",
       "      <td>0.000000</td>\n",
       "      <td>3.000000</td>\n",
       "      <td>28.000000</td>\n",
       "      <td>0.000000</td>\n",
       "      <td>0.000000</td>\n",
       "      <td>14.454200</td>\n",
       "    </tr>\n",
       "    <tr>\n",
       "      <th>75%</th>\n",
       "      <td>668.500000</td>\n",
       "      <td>1.000000</td>\n",
       "      <td>3.000000</td>\n",
       "      <td>38.000000</td>\n",
       "      <td>1.000000</td>\n",
       "      <td>0.000000</td>\n",
       "      <td>31.000000</td>\n",
       "    </tr>\n",
       "    <tr>\n",
       "      <th>max</th>\n",
       "      <td>891.000000</td>\n",
       "      <td>1.000000</td>\n",
       "      <td>3.000000</td>\n",
       "      <td>80.000000</td>\n",
       "      <td>8.000000</td>\n",
       "      <td>6.000000</td>\n",
       "      <td>512.329200</td>\n",
       "    </tr>\n",
       "  </tbody>\n",
       "</table>\n",
       "</div>"
      ],
      "text/plain": [
       "       PassengerId    Survived      Pclass         Age       SibSp  \\\n",
       "count   891.000000  891.000000  891.000000  714.000000  891.000000   \n",
       "mean    446.000000    0.383838    2.308642   29.699118    0.523008   \n",
       "std     257.353842    0.486592    0.836071   14.526497    1.102743   \n",
       "min       1.000000    0.000000    1.000000    0.420000    0.000000   \n",
       "25%     223.500000    0.000000    2.000000   20.125000    0.000000   \n",
       "50%     446.000000    0.000000    3.000000   28.000000    0.000000   \n",
       "75%     668.500000    1.000000    3.000000   38.000000    1.000000   \n",
       "max     891.000000    1.000000    3.000000   80.000000    8.000000   \n",
       "\n",
       "            Parch        Fare  \n",
       "count  891.000000  891.000000  \n",
       "mean     0.381594   32.204208  \n",
       "std      0.806057   49.693429  \n",
       "min      0.000000    0.000000  \n",
       "25%      0.000000    7.910400  \n",
       "50%      0.000000   14.454200  \n",
       "75%      0.000000   31.000000  \n",
       "max      6.000000  512.329200  "
      ]
     },
     "execution_count": 5,
     "metadata": {},
     "output_type": "execute_result"
    }
   ],
   "source": [
    "training_data.describe()"
   ]
  },
  {
   "cell_type": "code",
   "execution_count": 6,
   "id": "2f678cd6",
   "metadata": {
    "execution": {
     "iopub.execute_input": "2022-08-12T14:09:01.916038Z",
     "iopub.status.busy": "2022-08-12T14:09:01.914857Z",
     "iopub.status.idle": "2022-08-12T14:09:01.947384Z",
     "shell.execute_reply": "2022-08-12T14:09:01.945641Z"
    },
    "papermill": {
     "duration": 0.048133,
     "end_time": "2022-08-12T14:09:01.950431",
     "exception": false,
     "start_time": "2022-08-12T14:09:01.902298",
     "status": "completed"
    },
    "tags": []
   },
   "outputs": [
    {
     "data": {
      "text/html": [
       "<div>\n",
       "<style scoped>\n",
       "    .dataframe tbody tr th:only-of-type {\n",
       "        vertical-align: middle;\n",
       "    }\n",
       "\n",
       "    .dataframe tbody tr th {\n",
       "        vertical-align: top;\n",
       "    }\n",
       "\n",
       "    .dataframe thead th {\n",
       "        text-align: right;\n",
       "    }\n",
       "</style>\n",
       "<table border=\"1\" class=\"dataframe\">\n",
       "  <thead>\n",
       "    <tr style=\"text-align: right;\">\n",
       "      <th></th>\n",
       "      <th>PassengerId</th>\n",
       "      <th>Pclass</th>\n",
       "      <th>Age</th>\n",
       "      <th>SibSp</th>\n",
       "      <th>Parch</th>\n",
       "      <th>Fare</th>\n",
       "    </tr>\n",
       "  </thead>\n",
       "  <tbody>\n",
       "    <tr>\n",
       "      <th>count</th>\n",
       "      <td>418.000000</td>\n",
       "      <td>418.000000</td>\n",
       "      <td>332.000000</td>\n",
       "      <td>418.000000</td>\n",
       "      <td>418.000000</td>\n",
       "      <td>417.000000</td>\n",
       "    </tr>\n",
       "    <tr>\n",
       "      <th>mean</th>\n",
       "      <td>1100.500000</td>\n",
       "      <td>2.265550</td>\n",
       "      <td>30.272590</td>\n",
       "      <td>0.447368</td>\n",
       "      <td>0.392344</td>\n",
       "      <td>35.627188</td>\n",
       "    </tr>\n",
       "    <tr>\n",
       "      <th>std</th>\n",
       "      <td>120.810458</td>\n",
       "      <td>0.841838</td>\n",
       "      <td>14.181209</td>\n",
       "      <td>0.896760</td>\n",
       "      <td>0.981429</td>\n",
       "      <td>55.907576</td>\n",
       "    </tr>\n",
       "    <tr>\n",
       "      <th>min</th>\n",
       "      <td>892.000000</td>\n",
       "      <td>1.000000</td>\n",
       "      <td>0.170000</td>\n",
       "      <td>0.000000</td>\n",
       "      <td>0.000000</td>\n",
       "      <td>0.000000</td>\n",
       "    </tr>\n",
       "    <tr>\n",
       "      <th>25%</th>\n",
       "      <td>996.250000</td>\n",
       "      <td>1.000000</td>\n",
       "      <td>21.000000</td>\n",
       "      <td>0.000000</td>\n",
       "      <td>0.000000</td>\n",
       "      <td>7.895800</td>\n",
       "    </tr>\n",
       "    <tr>\n",
       "      <th>50%</th>\n",
       "      <td>1100.500000</td>\n",
       "      <td>3.000000</td>\n",
       "      <td>27.000000</td>\n",
       "      <td>0.000000</td>\n",
       "      <td>0.000000</td>\n",
       "      <td>14.454200</td>\n",
       "    </tr>\n",
       "    <tr>\n",
       "      <th>75%</th>\n",
       "      <td>1204.750000</td>\n",
       "      <td>3.000000</td>\n",
       "      <td>39.000000</td>\n",
       "      <td>1.000000</td>\n",
       "      <td>0.000000</td>\n",
       "      <td>31.500000</td>\n",
       "    </tr>\n",
       "    <tr>\n",
       "      <th>max</th>\n",
       "      <td>1309.000000</td>\n",
       "      <td>3.000000</td>\n",
       "      <td>76.000000</td>\n",
       "      <td>8.000000</td>\n",
       "      <td>9.000000</td>\n",
       "      <td>512.329200</td>\n",
       "    </tr>\n",
       "  </tbody>\n",
       "</table>\n",
       "</div>"
      ],
      "text/plain": [
       "       PassengerId      Pclass         Age       SibSp       Parch        Fare\n",
       "count   418.000000  418.000000  332.000000  418.000000  418.000000  417.000000\n",
       "mean   1100.500000    2.265550   30.272590    0.447368    0.392344   35.627188\n",
       "std     120.810458    0.841838   14.181209    0.896760    0.981429   55.907576\n",
       "min     892.000000    1.000000    0.170000    0.000000    0.000000    0.000000\n",
       "25%     996.250000    1.000000   21.000000    0.000000    0.000000    7.895800\n",
       "50%    1100.500000    3.000000   27.000000    0.000000    0.000000   14.454200\n",
       "75%    1204.750000    3.000000   39.000000    1.000000    0.000000   31.500000\n",
       "max    1309.000000    3.000000   76.000000    8.000000    9.000000  512.329200"
      ]
     },
     "execution_count": 6,
     "metadata": {},
     "output_type": "execute_result"
    }
   ],
   "source": [
    "testing_data.describe()"
   ]
  },
  {
   "cell_type": "code",
   "execution_count": 7,
   "id": "0a0cd2eb",
   "metadata": {
    "execution": {
     "iopub.execute_input": "2022-08-12T14:09:01.975906Z",
     "iopub.status.busy": "2022-08-12T14:09:01.974634Z",
     "iopub.status.idle": "2022-08-12T14:09:02.001357Z",
     "shell.execute_reply": "2022-08-12T14:09:02.000360Z"
    },
    "papermill": {
     "duration": 0.042312,
     "end_time": "2022-08-12T14:09:02.004066",
     "exception": false,
     "start_time": "2022-08-12T14:09:01.961754",
     "status": "completed"
    },
    "tags": []
   },
   "outputs": [
    {
     "data": {
      "text/html": [
       "<div>\n",
       "<style scoped>\n",
       "    .dataframe tbody tr th:only-of-type {\n",
       "        vertical-align: middle;\n",
       "    }\n",
       "\n",
       "    .dataframe tbody tr th {\n",
       "        vertical-align: top;\n",
       "    }\n",
       "\n",
       "    .dataframe thead th {\n",
       "        text-align: right;\n",
       "    }\n",
       "</style>\n",
       "<table border=\"1\" class=\"dataframe\">\n",
       "  <thead>\n",
       "    <tr style=\"text-align: right;\">\n",
       "      <th></th>\n",
       "      <th>Name</th>\n",
       "      <th>Sex</th>\n",
       "      <th>Ticket</th>\n",
       "      <th>Cabin</th>\n",
       "      <th>Embarked</th>\n",
       "    </tr>\n",
       "  </thead>\n",
       "  <tbody>\n",
       "    <tr>\n",
       "      <th>count</th>\n",
       "      <td>891</td>\n",
       "      <td>891</td>\n",
       "      <td>891</td>\n",
       "      <td>204</td>\n",
       "      <td>889</td>\n",
       "    </tr>\n",
       "    <tr>\n",
       "      <th>unique</th>\n",
       "      <td>891</td>\n",
       "      <td>2</td>\n",
       "      <td>681</td>\n",
       "      <td>147</td>\n",
       "      <td>3</td>\n",
       "    </tr>\n",
       "    <tr>\n",
       "      <th>top</th>\n",
       "      <td>Braund, Mr. Owen Harris</td>\n",
       "      <td>male</td>\n",
       "      <td>347082</td>\n",
       "      <td>B96 B98</td>\n",
       "      <td>S</td>\n",
       "    </tr>\n",
       "    <tr>\n",
       "      <th>freq</th>\n",
       "      <td>1</td>\n",
       "      <td>577</td>\n",
       "      <td>7</td>\n",
       "      <td>4</td>\n",
       "      <td>644</td>\n",
       "    </tr>\n",
       "  </tbody>\n",
       "</table>\n",
       "</div>"
      ],
      "text/plain": [
       "                           Name   Sex  Ticket    Cabin Embarked\n",
       "count                       891   891     891      204      889\n",
       "unique                      891     2     681      147        3\n",
       "top     Braund, Mr. Owen Harris  male  347082  B96 B98        S\n",
       "freq                          1   577       7        4      644"
      ]
     },
     "execution_count": 7,
     "metadata": {},
     "output_type": "execute_result"
    }
   ],
   "source": [
    "# Describe the dataframe object ('O')\n",
    "training_data.describe(include=['O'])"
   ]
  },
  {
   "cell_type": "markdown",
   "id": "c511eed3",
   "metadata": {
    "papermill": {
     "duration": 0.011512,
     "end_time": "2022-08-12T14:09:02.027429",
     "exception": false,
     "start_time": "2022-08-12T14:09:02.015917",
     "status": "completed"
    },
    "tags": []
   },
   "source": [
    "**Describe() Findings**\n",
    "These describe tables are useful for closely inspecting numerical data. <br>\n",
    "From these tables we can see that there is a large difference in the fair price paid (due to a large standard deviation), that the average age is around 30 years old (younger than the average age at the time, meaning that the ship was taken mostly by younger people), that around half of the people on the ship were travelling with siblings meaning a large amount of people were travelling with family, and including the number of parents or spouses, this number likely climbs even higher.<br>\n",
    "Using describe(include['O']) is used to get the description of the \"object\", which in this case, is the data frame itself. This shows how many unique values there are. As can be seen by inspecting the training data, there are large amount of ticket duplications, which is an issue that needs resolving as the ticket value is meant to be unique, however, this could be due to the existance of family tickets or something similar. As names are not dupliucated, we can safely assume that the entire passenger isnt being duplicated, just the ticket number. \n",
    "\n",
    "<br><br>\n",
    "**Basic Numeric Distributions**\n"
   ]
  },
  {
   "cell_type": "code",
   "execution_count": 8,
   "id": "b8e7b18d",
   "metadata": {
    "execution": {
     "iopub.execute_input": "2022-08-12T14:09:02.053414Z",
     "iopub.status.busy": "2022-08-12T14:09:02.052055Z",
     "iopub.status.idle": "2022-08-12T14:09:03.008874Z",
     "shell.execute_reply": "2022-08-12T14:09:03.007503Z"
    },
    "papermill": {
     "duration": 0.973259,
     "end_time": "2022-08-12T14:09:03.012145",
     "exception": false,
     "start_time": "2022-08-12T14:09:02.038886",
     "status": "completed"
    },
    "tags": []
   },
   "outputs": [
    {
     "data": {
      "image/png": "[encoded data removed]",
      "text/plain": [
       "<Figure size 432x288 with 1 Axes>"
      ]
     },
     "metadata": {
      "needs_background": "light"
     },
     "output_type": "display_data"
    },
    {
     "data": {
      "image/png": "[encoded data removed]",
      "text/plain": [
       "<Figure size 432x288 with 1 Axes>"
      ]
     },
     "metadata": {
      "needs_background": "light"
     },
     "output_type": "display_data"
    },
    {
     "data": {
      "image/png": "[encoded data removed]",
      "text/plain": [
       "<Figure size 432x288 with 1 Axes>"
      ]
     },
     "metadata": {
      "needs_background": "light"
     },
     "output_type": "display_data"
    },
    {
     "data": {
      "image/png": "[encoded data removed]",
      "text/plain": [
       "<Figure size 432x288 with 1 Axes>"
      ]
     },
     "metadata": {
      "needs_background": "light"
     },
     "output_type": "display_data"
    }
   ],
   "source": [
    "# Split dataframe into catagorical and numerical numbers \n",
    "training_data_numerical = training_data[['Age','SibSp','Parch','Fare']]\n",
    "training_data_catagorical = training_data[['Survived','Pclass','Sex','Ticket','Cabin','Embarked']]\n",
    "\n",
    "# Display numerical variables using histograms to observe distributions\n",
    "for x in training_data_numerical.columns:\n",
    "    plt.hist(training_data_numerical[x])\n",
    "    plt.title(x)\n",
    "    plt.show()"
   ]
  },
  {
   "cell_type": "markdown",
   "id": "d3977296",
   "metadata": {
    "papermill": {
     "duration": 0.012596,
     "end_time": "2022-08-12T14:09:03.037619",
     "exception": false,
     "start_time": "2022-08-12T14:09:03.025023",
     "status": "completed"
    },
    "tags": []
   },
   "source": [
    "*Findings*\n",
    "- Age gives a nice normal distriution, will be useful untransformed \n",
    "- Siblings and parent numbers are similar distriutions, likely as families are travelling all together (increasing both at the same rate) - could consider combinging into one \"family\" attribute\n",
    "- Fare is a poor distribution, but seems to be in a shape that shows an exponential distribution - taking the log of this curve should give a normalised distribution\n",
    "\n"
   ]
  },
  {
   "cell_type": "code",
   "execution_count": 9,
   "id": "5bbb4a2b",
   "metadata": {
    "execution": {
     "iopub.execute_input": "2022-08-12T14:09:03.064171Z",
     "iopub.status.busy": "2022-08-12T14:09:03.063719Z",
     "iopub.status.idle": "2022-08-12T14:09:03.336350Z",
     "shell.execute_reply": "2022-08-12T14:09:03.335008Z"
    },
    "papermill": {
     "duration": 0.289517,
     "end_time": "2022-08-12T14:09:03.339436",
     "exception": false,
     "start_time": "2022-08-12T14:09:03.049919",
     "status": "completed"
    },
    "tags": []
   },
   "outputs": [
    {
     "data": {
      "text/plain": [
       "<AxesSubplot:>"
      ]
     },
     "execution_count": 9,
     "metadata": {},
     "output_type": "execute_result"
    },
    {
     "data": {
      "image/png": "[encoded data removed]",
      "text/plain": [
       "<Figure size 432x288 with 2 Axes>"
      ]
     },
     "metadata": {
      "needs_background": "light"
     },
     "output_type": "display_data"
    }
   ],
   "source": [
    "# Display a heatmap to display correlations between numerical variables\n",
    "sns.heatmap(training_data_numerical.corr())"
   ]
  },
  {
   "cell_type": "markdown",
   "id": "23fbd643",
   "metadata": {
    "papermill": {
     "duration": 0.012082,
     "end_time": "2022-08-12T14:09:03.364329",
     "exception": false,
     "start_time": "2022-08-12T14:09:03.352247",
     "status": "completed"
    },
    "tags": []
   },
   "source": [
    "*Findings* <br>\n",
    "This step is important to ensure that two attributes arent too strongly correlated - which could lead to Multicollinearity - in which the model too strongly advocates for something due to the two strongly correlating attributes compounding. \n",
    "- Age and siblings/spouses are inversely correlated - most likely because most data for this variable is for spouses - as adults are ore likely to be married the older they are\n",
    "- The strongest correlation is between \"parch\" and \"sibsp\" - which suggests that if the person has a spouse/sibling, they are also likely to have a parent/child also present. This follows the logic that entire families are present on the ship. \n",
    "- Other correlations are present, but not strong enough to be concerned about changing results negetively.\n"
   ]
  },
  {
   "cell_type": "code",
   "execution_count": 10,
   "id": "00687545",
   "metadata": {
    "execution": {
     "iopub.execute_input": "2022-08-12T14:09:03.392444Z",
     "iopub.status.busy": "2022-08-12T14:09:03.391695Z",
     "iopub.status.idle": "2022-08-12T14:09:03.418633Z",
     "shell.execute_reply": "2022-08-12T14:09:03.417396Z"
    },
    "papermill": {
     "duration": 0.044284,
     "end_time": "2022-08-12T14:09:03.421179",
     "exception": false,
     "start_time": "2022-08-12T14:09:03.376895",
     "status": "completed"
    },
    "tags": []
   },
   "outputs": [
    {
     "data": {
      "text/html": [
       "<div>\n",
       "<style scoped>\n",
       "    .dataframe tbody tr th:only-of-type {\n",
       "        vertical-align: middle;\n",
       "    }\n",
       "\n",
       "    .dataframe tbody tr th {\n",
       "        vertical-align: top;\n",
       "    }\n",
       "\n",
       "    .dataframe thead th {\n",
       "        text-align: right;\n",
       "    }\n",
       "</style>\n",
       "<table border=\"1\" class=\"dataframe\">\n",
       "  <thead>\n",
       "    <tr style=\"text-align: right;\">\n",
       "      <th></th>\n",
       "      <th>Age</th>\n",
       "      <th>Fare</th>\n",
       "      <th>Parch</th>\n",
       "      <th>SibSp</th>\n",
       "    </tr>\n",
       "    <tr>\n",
       "      <th>Survived</th>\n",
       "      <th></th>\n",
       "      <th></th>\n",
       "      <th></th>\n",
       "      <th></th>\n",
       "    </tr>\n",
       "  </thead>\n",
       "  <tbody>\n",
       "    <tr>\n",
       "      <th>0</th>\n",
       "      <td>30.626179</td>\n",
       "      <td>22.117887</td>\n",
       "      <td>0.329690</td>\n",
       "      <td>0.553734</td>\n",
       "    </tr>\n",
       "    <tr>\n",
       "      <th>1</th>\n",
       "      <td>28.343690</td>\n",
       "      <td>48.395408</td>\n",
       "      <td>0.464912</td>\n",
       "      <td>0.473684</td>\n",
       "    </tr>\n",
       "  </tbody>\n",
       "</table>\n",
       "</div>"
      ],
      "text/plain": [
       "                Age       Fare     Parch     SibSp\n",
       "Survived                                          \n",
       "0         30.626179  22.117887  0.329690  0.553734\n",
       "1         28.343690  48.395408  0.464912  0.473684"
      ]
     },
     "execution_count": 10,
     "metadata": {},
     "output_type": "execute_result"
    }
   ],
   "source": [
    "# Create a simple table that shows the link between variables and survival\n",
    "pd.pivot_table(training_data, index = 'Survived', values = ['Age','SibSp','Parch','Fare'])"
   ]
  },
  {
   "cell_type": "markdown",
   "id": "98764c3a",
   "metadata": {
    "papermill": {
     "duration": 0.01289,
     "end_time": "2022-08-12T14:09:03.446989",
     "exception": false,
     "start_time": "2022-08-12T14:09:03.434099",
     "status": "completed"
    },
    "tags": []
   },
   "source": [
    "*Findings* <br>\n",
    "- In general, younger people are more likely to survive \n",
    "- In general, people who paid more for their ticket are more likely to survive (significantly more likely)\n",
    "- In general, people with parents or children aboard are more likely to survive\n",
    "- In general, those with siblings or spouses aboard are more likely to not survive (although not significantly)\n"
   ]
  },
  {
   "cell_type": "code",
   "execution_count": 11,
   "id": "eea91257",
   "metadata": {
    "execution": {
     "iopub.execute_input": "2022-08-12T14:09:03.476363Z",
     "iopub.status.busy": "2022-08-12T14:09:03.475078Z",
     "iopub.status.idle": "2022-08-12T14:09:03.549023Z",
     "shell.execute_reply": "2022-08-12T14:09:03.547511Z"
    },
    "papermill": {
     "duration": 0.091544,
     "end_time": "2022-08-12T14:09:03.552028",
     "exception": false,
     "start_time": "2022-08-12T14:09:03.460484",
     "status": "completed"
    },
    "tags": []
   },
   "outputs": [
    {
     "name": "stdout",
     "output_type": "stream",
     "text": [
      "Pclass      1   2    3\n",
      "Survived              \n",
      "0          80  97  372\n",
      "1         136  87  119\n",
      "\n",
      "Sex       female  male\n",
      "Survived              \n",
      "0             81   468\n",
      "1            233   109\n",
      "\n",
      "Embarked   C   Q    S\n",
      "Survived             \n",
      "0         75  47  427\n",
      "1         93  30  217\n",
      "\n",
      "Parch         0     1     2    3    4    5    6\n",
      "Survived                                       \n",
      "0         445.0  53.0  40.0  2.0  4.0  4.0  1.0\n",
      "1         233.0  65.0  40.0  3.0  NaN  1.0  NaN\n",
      "\n",
      "SibSp         0      1     2     3     4    5    8\n",
      "Survived                                          \n",
      "0         398.0   97.0  15.0  12.0  15.0  5.0  7.0\n",
      "1         210.0  112.0  13.0   4.0   3.0  NaN  NaN\n"
     ]
    }
   ],
   "source": [
    "# Display a series of tables which show the link between the catagories in catagorical variables and how survival is affected\n",
    "print(pd.pivot_table(training_data, index = 'Survived', columns = 'Pclass', values = 'Ticket' ,aggfunc ='count'))\n",
    "print()\n",
    "print(pd.pivot_table(training_data, index = 'Survived', columns = 'Sex', values = 'Ticket' ,aggfunc ='count'))\n",
    "print()\n",
    "print(pd.pivot_table(training_data, index = 'Survived', columns = 'Embarked', values = 'Ticket' ,aggfunc ='count'))\n",
    "print()\n",
    "print(pd.pivot_table(training_data, index = 'Survived', columns = 'Parch', values = 'Ticket' ,aggfunc ='count'))\n",
    "print()\n",
    "print(pd.pivot_table(training_data, index = 'Survived', columns = 'SibSp', values = 'Ticket' ,aggfunc ='count'))"
   ]
  },
  {
   "cell_type": "markdown",
   "id": "831ca801",
   "metadata": {
    "papermill": {
     "duration": 0.01304,
     "end_time": "2022-08-12T14:09:03.577867",
     "exception": false,
     "start_time": "2022-08-12T14:09:03.564827",
     "status": "completed"
    },
    "tags": []
   },
   "source": [
    "*Findings* <br>\n",
    "- Class seems to have a large effect on those who survive, with nearly 2/3rds of 1st class passengers surviving, compared to only 1/4 of 3rd class.\n",
    "- Sex seems to also have a massive effect, there is a huge difference between the proportion of women who survived when compared to their male counterparts.\n",
    "- As shown before, family size seems to have a positive effect - whether thats have a spouse or having children. \n",
    "- Location embarked from does not seem to be statistically significant\n",
    "\n",
    "\n"
   ]
  },
  {
   "cell_type": "code",
   "execution_count": 12,
   "id": "af426376",
   "metadata": {
    "execution": {
     "iopub.execute_input": "2022-08-12T14:09:03.605697Z",
     "iopub.status.busy": "2022-08-12T14:09:03.605205Z",
     "iopub.status.idle": "2022-08-12T14:09:04.105720Z",
     "shell.execute_reply": "2022-08-12T14:09:04.103731Z"
    },
    "papermill": {
     "duration": 0.518299,
     "end_time": "2022-08-12T14:09:04.108874",
     "exception": false,
     "start_time": "2022-08-12T14:09:03.590575",
     "status": "completed"
    },
    "tags": []
   },
   "outputs": [
    {
     "data": {
      "text/plain": [
       "<seaborn.axisgrid.FacetGrid at 0x7f3617bb3fd0>"
      ]
     },
     "execution_count": 12,
     "metadata": {},
     "output_type": "execute_result"
    },
    {
     "data": {
      "image/png": "[encoded data removed]",
      "text/plain": [
       "<Figure size 432x216 with 2 Axes>"
      ]
     },
     "metadata": {
      "needs_background": "light"
     },
     "output_type": "display_data"
    }
   ],
   "source": [
    "# Create a palet bar chart which better shows how age effects survival\n",
    "g = sns.FacetGrid(training_data, col='Survived')\n",
    "g.map(plt.hist, 'Age', bins=20)"
   ]
  },
  {
   "cell_type": "markdown",
   "id": "afd124e2",
   "metadata": {
    "papermill": {
     "duration": 0.01368,
     "end_time": "2022-08-12T14:09:04.136564",
     "exception": false,
     "start_time": "2022-08-12T14:09:04.122884",
     "status": "completed"
    },
    "tags": []
   },
   "source": [
    "Earlier analysis showed that the age of the passenger was not that significant (although younger people were slightly more likely to live) - this graph shows a mmuch better and easily understandable distribution. It shows that those who are young children are much more likely to survive. This distrubution also shows that for all other age groups, the survival and demise of passengers of any age is quite similar, showing that ignoring the skew provided by children, the chances of surviving are not heavily correlated to age."
   ]
  },
  {
   "cell_type": "code",
   "execution_count": 13,
   "id": "334c37c6",
   "metadata": {
    "execution": {
     "iopub.execute_input": "2022-08-12T14:09:04.165685Z",
     "iopub.status.busy": "2022-08-12T14:09:04.165011Z",
     "iopub.status.idle": "2022-08-12T14:09:04.179280Z",
     "shell.execute_reply": "2022-08-12T14:09:04.178008Z"
    },
    "papermill": {
     "duration": 0.032022,
     "end_time": "2022-08-12T14:09:04.181939",
     "exception": false,
     "start_time": "2022-08-12T14:09:04.149917",
     "status": "completed"
    },
    "tags": []
   },
   "outputs": [
    {
     "data": {
      "text/plain": [
       "Mr          517\n",
       "Miss        182\n",
       "Mrs         125\n",
       "Master       40\n",
       "Dr            7\n",
       "Rev           6\n",
       "Mlle          2\n",
       "Major         2\n",
       "Col           2\n",
       "Countess      1\n",
       "Capt          1\n",
       "Ms            1\n",
       "Sir           1\n",
       "Lady          1\n",
       "Mme           1\n",
       "Don           1\n",
       "Jonkheer      1\n",
       "Name: Title, dtype: int64"
      ]
     },
     "execution_count": 13,
     "metadata": {},
     "output_type": "execute_result"
    }
   ],
   "source": [
    "# Extract the first string from each name (which is the title)\n",
    "training_data['Title'] = training_data.Name.str.extract(' ([A-Za-z]+)\\.', expand=False)\n",
    "# Display the number of each titles present\n",
    "training_data['Title'].value_counts()"
   ]
  },
  {
   "cell_type": "markdown",
   "id": "f39a5e81",
   "metadata": {
    "papermill": {
     "duration": 0.014026,
     "end_time": "2022-08-12T14:09:04.209464",
     "exception": false,
     "start_time": "2022-08-12T14:09:04.195438",
     "status": "completed"
    },
    "tags": []
   },
   "source": [
    "After listing the titles, we can see that the only statistically significant titles are Mr, Miss, Mrs and Master. These titles are already covered by the age and sex variables. The other titles, which could be significant, such as Countess, are covered by the class variable. This makes including the title obsolete. \n"
   ]
  },
  {
   "cell_type": "code",
   "execution_count": 14,
   "id": "2fa98f94",
   "metadata": {
    "execution": {
     "iopub.execute_input": "2022-08-12T14:09:04.240884Z",
     "iopub.status.busy": "2022-08-12T14:09:04.239667Z",
     "iopub.status.idle": "2022-08-12T14:09:04.248194Z",
     "shell.execute_reply": "2022-08-12T14:09:04.246963Z"
    },
    "papermill": {
     "duration": 0.02661,
     "end_time": "2022-08-12T14:09:04.250916",
     "exception": false,
     "start_time": "2022-08-12T14:09:04.224306",
     "status": "completed"
    },
    "tags": []
   },
   "outputs": [],
   "source": [
    "# Removing the Title variable\n",
    "training_data = training_data.drop(['Title'], axis=1)"
   ]
  },
  {
   "cell_type": "markdown",
   "id": "ee119e5d",
   "metadata": {
    "papermill": {
     "duration": 0.012763,
     "end_time": "2022-08-12T14:09:04.276910",
     "exception": false,
     "start_time": "2022-08-12T14:09:04.264147",
     "status": "completed"
    },
    "tags": []
   },
   "source": [
    "# Conclusion\n",
    "\n",
    "*Variables Included in Modelling*\n",
    "- Age\n",
    "- Class\n",
    "- Sex\n",
    "- Parch\n",
    "- SibSp\n",
    "- Fare\n",
    "\n",
    "*Variables NOT Included in Modelling*\n",
    "- Ticket\n",
    "    - Not relevant, including the fare tells the model everything needed to know about the ticket, alphanumerical string tells us nothing \n",
    "- Cabin\n",
    "    - Excluded due to a lack of compelte dataset, too many null values make using this variable too inaccurate\n",
    "- Embarked\n",
    "    - Does not appear to be statisically relevant, also not logically relevant. Titanic sank after all of these destinations were visited. \n",
    "- Name\n",
    "    - Excluding the title due to overlap between a passengers title, and their sex and class, the name is not relevant at all. \n"
   ]
  },
  {
   "cell_type": "markdown",
   "id": "14b71fad",
   "metadata": {
    "papermill": {
     "duration": 0.013127,
     "end_time": "2022-08-12T14:09:04.303197",
     "exception": false,
     "start_time": "2022-08-12T14:09:04.290070",
     "status": "completed"
    },
    "tags": []
   },
   "source": [
    "## **Data Cleaning**\n"
   ]
  },
  {
   "cell_type": "code",
   "execution_count": 15,
   "id": "1486e6e2",
   "metadata": {
    "execution": {
     "iopub.execute_input": "2022-08-12T14:09:04.332155Z",
     "iopub.status.busy": "2022-08-12T14:09:04.331303Z",
     "iopub.status.idle": "2022-08-12T14:09:04.599963Z",
     "shell.execute_reply": "2022-08-12T14:09:04.598648Z"
    },
    "papermill": {
     "duration": 0.286156,
     "end_time": "2022-08-12T14:09:04.602647",
     "exception": false,
     "start_time": "2022-08-12T14:09:04.316491",
     "status": "completed"
    },
    "tags": []
   },
   "outputs": [
    {
     "data": {
      "image/png": "[encoded data removed]",
      "text/plain": [
       "<Figure size 432x288 with 1 Axes>"
      ]
     },
     "metadata": {
      "needs_background": "light"
     },
     "output_type": "display_data"
    }
   ],
   "source": [
    "# Fill NA values in variables with the averages to fill data set\n",
    "testing_data.Age = testing_data.Age.fillna(testing_data.Age.median())\n",
    "testing_data.Fare = testing_data.Fare.fillna(testing_data.Fare.mean())\n",
    "\n",
    "# Drop unneeded data\n",
    "testing_data = testing_data.drop(['Ticket'], axis=1)\n",
    "testing_data = testing_data.drop(['Cabin'], axis=1)\n",
    "testing_data = testing_data.drop(['Embarked'], axis=1)\n",
    "testing_data = testing_data.drop(['Name'], axis=1)\n",
    "\n",
    "# Translate fare prices into logorithic data to normalise and drop fare\n",
    "testing_data['LogFare'] = np.log(testing_data.Fare+1)\n",
    "testing_data['LogFare'].hist()\n",
    "testing_data = testing_data.drop(['Fare'], axis=1)\n",
    "\n",
    "# Replace catagorical sex strings with int values\n",
    "testing_data['Sex'] = testing_data['Sex'].map( {'female': 1, 'male': 0} ).astype(int)"
   ]
  },
  {
   "cell_type": "code",
   "execution_count": 16,
   "id": "18a9a5cf",
   "metadata": {
    "execution": {
     "iopub.execute_input": "2022-08-12T14:09:04.631669Z",
     "iopub.status.busy": "2022-08-12T14:09:04.631151Z",
     "iopub.status.idle": "2022-08-12T14:09:04.880417Z",
     "shell.execute_reply": "2022-08-12T14:09:04.878906Z"
    },
    "papermill": {
     "duration": 0.267226,
     "end_time": "2022-08-12T14:09:04.883300",
     "exception": false,
     "start_time": "2022-08-12T14:09:04.616074",
     "status": "completed"
    },
    "tags": []
   },
   "outputs": [
    {
     "data": {
      "image/png": "[encoded data removed]",
      "text/plain": [
       "<Figure size 432x288 with 1 Axes>"
      ]
     },
     "metadata": {
      "needs_background": "light"
     },
     "output_type": "display_data"
    }
   ],
   "source": [
    "# Fill NA values in variables with the averages to fill data set\n",
    "training_data.Age = training_data.Age.fillna(training_data.Age.median())\n",
    "training_data.Fare = training_data.Fare.fillna(training_data.Fare.mean())\n",
    "\n",
    "# Drop unneeded data\n",
    "training_data = training_data.drop(['Ticket'], axis=1)\n",
    "training_data = training_data.drop(['Cabin'], axis=1)\n",
    "training_data = training_data.drop(['Embarked'], axis=1)\n",
    "training_data = training_data.drop(['Name'], axis=1)\n",
    "\n",
    "# Translate fare prices into logorithic data to normalise and drop fare\n",
    "training_data['LogFare'] = np.log(training_data.Fare+1)\n",
    "training_data['LogFare'].hist()\n",
    "training_data = training_data.drop(['Fare'], axis=1)\n",
    "\n",
    "# Replace catagorical sex strings with int values\n",
    "training_data['Sex'] = training_data['Sex'].map( {'female': 1, 'male': 0} ).astype(int)"
   ]
  },
  {
   "cell_type": "code",
   "execution_count": 17,
   "id": "a3c4d6c7",
   "metadata": {
    "execution": {
     "iopub.execute_input": "2022-08-12T14:09:04.918269Z",
     "iopub.status.busy": "2022-08-12T14:09:04.917388Z",
     "iopub.status.idle": "2022-08-12T14:09:04.942357Z",
     "shell.execute_reply": "2022-08-12T14:09:04.940576Z"
    },
    "papermill": {
     "duration": 0.049353,
     "end_time": "2022-08-12T14:09:04.946427",
     "exception": false,
     "start_time": "2022-08-12T14:09:04.897074",
     "status": "completed"
    },
    "tags": []
   },
   "outputs": [
    {
     "name": "stdout",
     "output_type": "stream",
     "text": [
      "<class 'pandas.core.frame.DataFrame'>\n",
      "RangeIndex: 891 entries, 0 to 890\n",
      "Data columns (total 8 columns):\n",
      " #   Column       Non-Null Count  Dtype  \n",
      "---  ------       --------------  -----  \n",
      " 0   PassengerId  891 non-null    int64  \n",
      " 1   Survived     891 non-null    int64  \n",
      " 2   Pclass       891 non-null    int64  \n",
      " 3   Sex          891 non-null    int64  \n",
      " 4   Age          891 non-null    float64\n",
      " 5   SibSp        891 non-null    int64  \n",
      " 6   Parch        891 non-null    int64  \n",
      " 7   LogFare      891 non-null    float64\n",
      "dtypes: float64(2), int64(6)\n",
      "memory usage: 55.8 KB\n"
     ]
    },
    {
     "data": {
      "text/html": [
       "<div>\n",
       "<style scoped>\n",
       "    .dataframe tbody tr th:only-of-type {\n",
       "        vertical-align: middle;\n",
       "    }\n",
       "\n",
       "    .dataframe tbody tr th {\n",
       "        vertical-align: top;\n",
       "    }\n",
       "\n",
       "    .dataframe thead th {\n",
       "        text-align: right;\n",
       "    }\n",
       "</style>\n",
       "<table border=\"1\" class=\"dataframe\">\n",
       "  <thead>\n",
       "    <tr style=\"text-align: right;\">\n",
       "      <th></th>\n",
       "      <th>PassengerId</th>\n",
       "      <th>Survived</th>\n",
       "      <th>Pclass</th>\n",
       "      <th>Sex</th>\n",
       "      <th>Age</th>\n",
       "      <th>SibSp</th>\n",
       "      <th>Parch</th>\n",
       "      <th>LogFare</th>\n",
       "    </tr>\n",
       "  </thead>\n",
       "  <tbody>\n",
       "    <tr>\n",
       "      <th>0</th>\n",
       "      <td>1</td>\n",
       "      <td>0</td>\n",
       "      <td>3</td>\n",
       "      <td>0</td>\n",
       "      <td>22.0</td>\n",
       "      <td>1</td>\n",
       "      <td>0</td>\n",
       "      <td>2.110213</td>\n",
       "    </tr>\n",
       "    <tr>\n",
       "      <th>1</th>\n",
       "      <td>2</td>\n",
       "      <td>1</td>\n",
       "      <td>1</td>\n",
       "      <td>1</td>\n",
       "      <td>38.0</td>\n",
       "      <td>1</td>\n",
       "      <td>0</td>\n",
       "      <td>4.280593</td>\n",
       "    </tr>\n",
       "    <tr>\n",
       "      <th>2</th>\n",
       "      <td>3</td>\n",
       "      <td>1</td>\n",
       "      <td>3</td>\n",
       "      <td>1</td>\n",
       "      <td>26.0</td>\n",
       "      <td>0</td>\n",
       "      <td>0</td>\n",
       "      <td>2.188856</td>\n",
       "    </tr>\n",
       "    <tr>\n",
       "      <th>3</th>\n",
       "      <td>4</td>\n",
       "      <td>1</td>\n",
       "      <td>1</td>\n",
       "      <td>1</td>\n",
       "      <td>35.0</td>\n",
       "      <td>1</td>\n",
       "      <td>0</td>\n",
       "      <td>3.990834</td>\n",
       "    </tr>\n",
       "    <tr>\n",
       "      <th>4</th>\n",
       "      <td>5</td>\n",
       "      <td>0</td>\n",
       "      <td>3</td>\n",
       "      <td>0</td>\n",
       "      <td>35.0</td>\n",
       "      <td>0</td>\n",
       "      <td>0</td>\n",
       "      <td>2.202765</td>\n",
       "    </tr>\n",
       "  </tbody>\n",
       "</table>\n",
       "</div>"
      ],
      "text/plain": [
       "   PassengerId  Survived  Pclass  Sex   Age  SibSp  Parch   LogFare\n",
       "0            1         0       3    0  22.0      1      0  2.110213\n",
       "1            2         1       1    1  38.0      1      0  4.280593\n",
       "2            3         1       3    1  26.0      0      0  2.188856\n",
       "3            4         1       1    1  35.0      1      0  3.990834\n",
       "4            5         0       3    0  35.0      0      0  2.202765"
      ]
     },
     "execution_count": 17,
     "metadata": {},
     "output_type": "execute_result"
    }
   ],
   "source": [
    "# Confirm data changes\n",
    "training_data.info()\n",
    "training_data.head()"
   ]
  },
  {
   "cell_type": "code",
   "execution_count": 18,
   "id": "65fc2507",
   "metadata": {
    "execution": {
     "iopub.execute_input": "2022-08-12T14:09:04.978037Z",
     "iopub.status.busy": "2022-08-12T14:09:04.977544Z",
     "iopub.status.idle": "2022-08-12T14:09:05.001965Z",
     "shell.execute_reply": "2022-08-12T14:09:05.000881Z"
    },
    "papermill": {
     "duration": 0.044544,
     "end_time": "2022-08-12T14:09:05.006042",
     "exception": false,
     "start_time": "2022-08-12T14:09:04.961498",
     "status": "completed"
    },
    "tags": []
   },
   "outputs": [
    {
     "name": "stdout",
     "output_type": "stream",
     "text": [
      "<class 'pandas.core.frame.DataFrame'>\n",
      "RangeIndex: 418 entries, 0 to 417\n",
      "Data columns (total 7 columns):\n",
      " #   Column       Non-Null Count  Dtype  \n",
      "---  ------       --------------  -----  \n",
      " 0   PassengerId  418 non-null    int64  \n",
      " 1   Pclass       418 non-null    int64  \n",
      " 2   Sex          418 non-null    int64  \n",
      " 3   Age          418 non-null    float64\n",
      " 4   SibSp        418 non-null    int64  \n",
      " 5   Parch        418 non-null    int64  \n",
      " 6   LogFare      418 non-null    float64\n",
      "dtypes: float64(2), int64(5)\n",
      "memory usage: 23.0 KB\n"
     ]
    },
    {
     "data": {
      "text/html": [
       "<div>\n",
       "<style scoped>\n",
       "    .dataframe tbody tr th:only-of-type {\n",
       "        vertical-align: middle;\n",
       "    }\n",
       "\n",
       "    .dataframe tbody tr th {\n",
       "        vertical-align: top;\n",
       "    }\n",
       "\n",
       "    .dataframe thead th {\n",
       "        text-align: right;\n",
       "    }\n",
       "</style>\n",
       "<table border=\"1\" class=\"dataframe\">\n",
       "  <thead>\n",
       "    <tr style=\"text-align: right;\">\n",
       "      <th></th>\n",
       "      <th>PassengerId</th>\n",
       "      <th>Pclass</th>\n",
       "      <th>Sex</th>\n",
       "      <th>Age</th>\n",
       "      <th>SibSp</th>\n",
       "      <th>Parch</th>\n",
       "      <th>LogFare</th>\n",
       "    </tr>\n",
       "  </thead>\n",
       "  <tbody>\n",
       "    <tr>\n",
       "      <th>0</th>\n",
       "      <td>892</td>\n",
       "      <td>3</td>\n",
       "      <td>0</td>\n",
       "      <td>34.5</td>\n",
       "      <td>0</td>\n",
       "      <td>0</td>\n",
       "      <td>2.178064</td>\n",
       "    </tr>\n",
       "    <tr>\n",
       "      <th>1</th>\n",
       "      <td>893</td>\n",
       "      <td>3</td>\n",
       "      <td>1</td>\n",
       "      <td>47.0</td>\n",
       "      <td>1</td>\n",
       "      <td>0</td>\n",
       "      <td>2.079442</td>\n",
       "    </tr>\n",
       "    <tr>\n",
       "      <th>2</th>\n",
       "      <td>894</td>\n",
       "      <td>2</td>\n",
       "      <td>0</td>\n",
       "      <td>62.0</td>\n",
       "      <td>0</td>\n",
       "      <td>0</td>\n",
       "      <td>2.369075</td>\n",
       "    </tr>\n",
       "    <tr>\n",
       "      <th>3</th>\n",
       "      <td>895</td>\n",
       "      <td>3</td>\n",
       "      <td>0</td>\n",
       "      <td>27.0</td>\n",
       "      <td>0</td>\n",
       "      <td>0</td>\n",
       "      <td>2.268252</td>\n",
       "    </tr>\n",
       "    <tr>\n",
       "      <th>4</th>\n",
       "      <td>896</td>\n",
       "      <td>3</td>\n",
       "      <td>1</td>\n",
       "      <td>22.0</td>\n",
       "      <td>1</td>\n",
       "      <td>1</td>\n",
       "      <td>2.586824</td>\n",
       "    </tr>\n",
       "  </tbody>\n",
       "</table>\n",
       "</div>"
      ],
      "text/plain": [
       "   PassengerId  Pclass  Sex   Age  SibSp  Parch   LogFare\n",
       "0          892       3    0  34.5      0      0  2.178064\n",
       "1          893       3    1  47.0      1      0  2.079442\n",
       "2          894       2    0  62.0      0      0  2.369075\n",
       "3          895       3    0  27.0      0      0  2.268252\n",
       "4          896       3    1  22.0      1      1  2.586824"
      ]
     },
     "execution_count": 18,
     "metadata": {},
     "output_type": "execute_result"
    }
   ],
   "source": [
    "# Confirm data changes\n",
    "testing_data.info()\n",
    "testing_data.head()"
   ]
  },
  {
   "cell_type": "markdown",
   "id": "211a329b",
   "metadata": {
    "papermill": {
     "duration": 0.014937,
     "end_time": "2022-08-12T14:09:05.035648",
     "exception": false,
     "start_time": "2022-08-12T14:09:05.020711",
     "status": "completed"
    },
    "tags": []
   },
   "source": [
    "## **Data Modelling**\n"
   ]
  },
  {
   "cell_type": "markdown",
   "id": "29cc7f85",
   "metadata": {
    "papermill": {
     "duration": 0.013877,
     "end_time": "2022-08-12T14:09:05.064253",
     "exception": false,
     "start_time": "2022-08-12T14:09:05.050376",
     "status": "completed"
    },
    "tags": []
   },
   "source": [
    "***Data Preparation***"
   ]
  },
  {
   "cell_type": "code",
   "execution_count": 19,
   "id": "8a4c3ddc",
   "metadata": {
    "execution": {
     "iopub.execute_input": "2022-08-12T14:09:05.096760Z",
     "iopub.status.busy": "2022-08-12T14:09:05.095773Z",
     "iopub.status.idle": "2022-08-12T14:09:05.109762Z",
     "shell.execute_reply": "2022-08-12T14:09:05.108403Z"
    },
    "papermill": {
     "duration": 0.032739,
     "end_time": "2022-08-12T14:09:05.112713",
     "exception": false,
     "start_time": "2022-08-12T14:09:05.079974",
     "status": "completed"
    },
    "tags": []
   },
   "outputs": [
    {
     "data": {
      "text/plain": [
       "418"
      ]
     },
     "execution_count": 19,
     "metadata": {},
     "output_type": "execute_result"
    }
   ],
   "source": [
    "# Seperate independant and dependant variables\n",
    "X_train = training_data[['Pclass','Sex','Age','SibSp','Parch','LogFare']]\n",
    "y_train = training_data['Survived']\n",
    "X_test = testing_data[['Pclass','Sex','Age','SibSp','Parch','LogFare']]\n",
    "\n",
    "len(X_test)"
   ]
  },
  {
   "cell_type": "markdown",
   "id": "654d72ff",
   "metadata": {
    "papermill": {
     "duration": 0.015322,
     "end_time": "2022-08-12T14:09:05.142617",
     "exception": false,
     "start_time": "2022-08-12T14:09:05.127295",
     "status": "completed"
    },
    "tags": []
   },
   "source": [
    "***Model Usage***"
   ]
  },
  {
   "cell_type": "code",
   "execution_count": 20,
   "id": "ac8157f6",
   "metadata": {
    "execution": {
     "iopub.execute_input": "2022-08-12T14:09:05.176236Z",
     "iopub.status.busy": "2022-08-12T14:09:05.174813Z",
     "iopub.status.idle": "2022-08-12T14:09:05.219370Z",
     "shell.execute_reply": "2022-08-12T14:09:05.216591Z"
    },
    "papermill": {
     "duration": 0.06507,
     "end_time": "2022-08-12T14:09:05.222962",
     "exception": false,
     "start_time": "2022-08-12T14:09:05.157892",
     "status": "completed"
    },
    "tags": []
   },
   "outputs": [
    {
     "name": "stdout",
     "output_type": "stream",
     "text": [
      "0.8\n"
     ]
    }
   ],
   "source": [
    "# Logistic Regression Model Use\n",
    "lr=LogisticRegression()\n",
    "lr.fit(X_train,y_train)\n",
    "y_predict = lr.predict(X_test)\n",
    "lrScore = round(lr.score(X_train, y_train), 2)\n",
    "print(lrScore)"
   ]
  },
  {
   "cell_type": "code",
   "execution_count": 21,
   "id": "da007bca",
   "metadata": {
    "execution": {
     "iopub.execute_input": "2022-08-12T14:09:05.255490Z",
     "iopub.status.busy": "2022-08-12T14:09:05.254319Z",
     "iopub.status.idle": "2022-08-12T14:09:05.350255Z",
     "shell.execute_reply": "2022-08-12T14:09:05.348366Z"
    },
    "papermill": {
     "duration": 0.115844,
     "end_time": "2022-08-12T14:09:05.353445",
     "exception": false,
     "start_time": "2022-08-12T14:09:05.237601",
     "status": "completed"
    },
    "tags": []
   },
   "outputs": [
    {
     "name": "stdout",
     "output_type": "stream",
     "text": [
      "0.72\n"
     ]
    }
   ],
   "source": [
    "# Support Vector Classification Use\n",
    "svc = SVC()\n",
    "svc.fit(X_train, y_train)\n",
    "y_test = svc.predict(X_test)\n",
    "svcScore = round(svc.score(X_train, y_train), 2)\n",
    "print(svcScore)"
   ]
  },
  {
   "cell_type": "code",
   "execution_count": 22,
   "id": "a2ce290c",
   "metadata": {
    "execution": {
     "iopub.execute_input": "2022-08-12T14:09:05.385089Z",
     "iopub.status.busy": "2022-08-12T14:09:05.384587Z",
     "iopub.status.idle": "2022-08-12T14:09:05.444091Z",
     "shell.execute_reply": "2022-08-12T14:09:05.442733Z"
    },
    "papermill": {
     "duration": 0.078551,
     "end_time": "2022-08-12T14:09:05.446801",
     "exception": false,
     "start_time": "2022-08-12T14:09:05.368250",
     "status": "completed"
    },
    "tags": []
   },
   "outputs": [
    {
     "data": {
      "text/plain": [
       "0.89"
      ]
     },
     "execution_count": 22,
     "metadata": {},
     "output_type": "execute_result"
    }
   ],
   "source": [
    "# K Neighbors Classifier Use\n",
    "knn = KNeighborsClassifier(n_neighbors = 3)\n",
    "knn.fit(X_train, y_train)\n",
    "y_test = knn.predict(X_test)\n",
    "knnScore = round(knn.score(X_train, y_train), 2)\n",
    "knnScore"
   ]
  },
  {
   "cell_type": "code",
   "execution_count": 23,
   "id": "2abcd72f",
   "metadata": {
    "execution": {
     "iopub.execute_input": "2022-08-12T14:09:05.479646Z",
     "iopub.status.busy": "2022-08-12T14:09:05.478193Z",
     "iopub.status.idle": "2022-08-12T14:09:05.496356Z",
     "shell.execute_reply": "2022-08-12T14:09:05.495239Z"
    },
    "papermill": {
     "duration": 0.037266,
     "end_time": "2022-08-12T14:09:05.499208",
     "exception": false,
     "start_time": "2022-08-12T14:09:05.461942",
     "status": "completed"
    },
    "tags": []
   },
   "outputs": [
    {
     "data": {
      "text/plain": [
       "0.77"
      ]
     },
     "execution_count": 23,
     "metadata": {},
     "output_type": "execute_result"
    }
   ],
   "source": [
    "# Gaussian Use\n",
    "gs = GaussianNB()\n",
    "gs.fit(X_train, y_train)\n",
    "y_test = gs.predict(X_test)\n",
    "gsScore = round(gs.score(X_train, y_train), 2)\n",
    "gsScore"
   ]
  },
  {
   "cell_type": "code",
   "execution_count": 24,
   "id": "91e725b4",
   "metadata": {
    "execution": {
     "iopub.execute_input": "2022-08-12T14:09:05.532570Z",
     "iopub.status.busy": "2022-08-12T14:09:05.531275Z",
     "iopub.status.idle": "2022-08-12T14:09:05.550825Z",
     "shell.execute_reply": "2022-08-12T14:09:05.549793Z"
    },
    "papermill": {
     "duration": 0.038709,
     "end_time": "2022-08-12T14:09:05.553504",
     "exception": false,
     "start_time": "2022-08-12T14:09:05.514795",
     "status": "completed"
    },
    "tags": []
   },
   "outputs": [
    {
     "data": {
      "text/plain": [
       "0.98"
      ]
     },
     "execution_count": 24,
     "metadata": {},
     "output_type": "execute_result"
    }
   ],
   "source": [
    "# Decision Tree Use\n",
    "dt = DecisionTreeClassifier()\n",
    "dt.fit(X_train, y_train)\n",
    "y_test = dt.predict(X_test)\n",
    "dtScore = round(dt.score(X_train, y_train), 2)\n",
    "dtScore"
   ]
  },
  {
   "cell_type": "code",
   "execution_count": 25,
   "id": "3eea82b5",
   "metadata": {
    "execution": {
     "iopub.execute_input": "2022-08-12T14:09:05.586026Z",
     "iopub.status.busy": "2022-08-12T14:09:05.585158Z",
     "iopub.status.idle": "2022-08-12T14:09:05.893146Z",
     "shell.execute_reply": "2022-08-12T14:09:05.891834Z"
    },
    "papermill": {
     "duration": 0.328031,
     "end_time": "2022-08-12T14:09:05.896373",
     "exception": false,
     "start_time": "2022-08-12T14:09:05.568342",
     "status": "completed"
    },
    "tags": []
   },
   "outputs": [
    {
     "data": {
      "text/plain": [
       "0.98"
      ]
     },
     "execution_count": 25,
     "metadata": {},
     "output_type": "execute_result"
    }
   ],
   "source": [
    "# Random Forrest Classifier Use\n",
    "rf = RandomForestClassifier(n_estimators=100)\n",
    "rf.fit(X_train, y_train)\n",
    "y_test = rf.predict(X_test)\n",
    "rf.score(X_train, y_train)\n",
    "rfScore = round(rf.score(X_train, y_train), 2)\n",
    "rfScore"
   ]
  },
  {
   "cell_type": "markdown",
   "id": "c1bcd407",
   "metadata": {
    "papermill": {
     "duration": 0.014988,
     "end_time": "2022-08-12T14:09:05.927007",
     "exception": false,
     "start_time": "2022-08-12T14:09:05.912019",
     "status": "completed"
    },
    "tags": []
   },
   "source": [
    "It appears clearly that Random Forest Classifier and Decision Tree are the most accurate models used. \n",
    "I will choose to submit The Decision Tree model predictions, as the data set is small, and random forest is likely too complex for the predictions that are to be made- and therefore may overanalyse the data (as well as simply not being as efficient for the small task at hand)."
   ]
  },
  {
   "cell_type": "markdown",
   "id": "c0355784",
   "metadata": {
    "papermill": {
     "duration": 0.015251,
     "end_time": "2022-08-12T14:09:05.957406",
     "exception": false,
     "start_time": "2022-08-12T14:09:05.942155",
     "status": "completed"
    },
    "tags": []
   },
   "source": [
    "## **Submission**"
   ]
  },
  {
   "cell_type": "code",
   "execution_count": 26,
   "id": "413eff27",
   "metadata": {
    "execution": {
     "iopub.execute_input": "2022-08-12T14:09:05.990248Z",
     "iopub.status.busy": "2022-08-12T14:09:05.989026Z",
     "iopub.status.idle": "2022-08-12T14:09:06.006831Z",
     "shell.execute_reply": "2022-08-12T14:09:06.005771Z"
    },
    "papermill": {
     "duration": 0.037211,
     "end_time": "2022-08-12T14:09:06.009680",
     "exception": false,
     "start_time": "2022-08-12T14:09:05.972469",
     "status": "completed"
    },
    "tags": []
   },
   "outputs": [],
   "source": [
    "# Decision Tree Use\n",
    "dt = DecisionTreeClassifier()\n",
    "dt.fit(X_train, y_train)\n",
    "y_test_Final = dt.predict(X_test)\n",
    "\n",
    "submission = pd.DataFrame({\n",
    "        \"PassengerId\": testing_data[\"PassengerId\"],\n",
    "        \"Survived\": y_test_Final\n",
    "    })\n",
    "\n",
    "submission.to_csv('submission.csv', index =False)"
   ]
  }
 ],
 "metadata": {
  "kernelspec": {
   "display_name": "Python 3 (ipykernel)",
   "language": "python",
   "name": "python3"
  },
  "language_info": {
   "codemirror_mode": {
    "name": "ipython",
    "version": 3
   },
   "file_extension": ".py",
   "mimetype": "text/x-python",
   "name": "python",
   "nbconvert_exporter": "python",
   "pygments_lexer": "ipython3",
   "version": "3.10.6"
  },
  "papermill": {
   "default_parameters": {},
   "duration": 19.167289,
   "end_time": "2022-08-12T14:09:07.150451",
   "environment_variables": {},
   "exception": null,
   "input_path": "__notebook__.ipynb",
   "output_path": "__notebook__.ipynb",
   "parameters": {},
   "start_time": "2022-08-12T14:08:47.983162",
   "version": "2.3.4"
  }
 },
 "nbformat": 4,
 "nbformat_minor": 5
}
